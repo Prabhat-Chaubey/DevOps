{
 "cells": [
  {
   "cell_type": "markdown",
   "id": "421ebcba-98de-499f-8984-7bd7c33d9160",
   "metadata": {},
   "source": [
    "# *Range*"
   ]
  },
  {
   "cell_type": "code",
   "execution_count": 39,
   "id": "40cf0b0d-bc69-4e86-98dd-22d77c8e220e",
   "metadata": {},
   "outputs": [
    {
     "ename": "TypeError",
     "evalue": "'range' object is not callable",
     "output_type": "error",
     "traceback": [
      "\u001b[1;31m---------------------------------------------------------------------------\u001b[0m",
      "\u001b[1;31mTypeError\u001b[0m                                 Traceback (most recent call last)",
      "Cell \u001b[1;32mIn[39], line 2\u001b[0m\n\u001b[0;32m      1\u001b[0m \u001b[38;5;66;03m# list = range(0,10)\u001b[39;00m\n\u001b[1;32m----> 2\u001b[0m \u001b[38;5;28mprint\u001b[39m(\u001b[38;5;28;43mlist\u001b[39;49m\u001b[43m(\u001b[49m\u001b[38;5;28;43mrange\u001b[39;49m\u001b[43m(\u001b[49m\u001b[38;5;241;43m0\u001b[39;49m\u001b[43m,\u001b[49m\u001b[38;5;241;43m10\u001b[39;49m\u001b[43m)\u001b[49m\u001b[43m)\u001b[49m)\n",
      "\u001b[1;31mTypeError\u001b[0m: 'range' object is not callable"
     ]
    }
   ],
   "source": [
    "# list = range(0,10)\n",
    "# print(list(range(0,10)))"
   ]
  },
  {
   "cell_type": "markdown",
   "id": "fa4747fb-f6ed-435d-abda-5a8cdf18a629",
   "metadata": {},
   "source": [
    "# *Classes*"
   ]
  },
  {
   "cell_type": "code",
   "execution_count": 36,
   "id": "c4d76f7e-560b-4458-a305-3cd5217e401b",
   "metadata": {},
   "outputs": [
    {
     "data": {
      "text/plain": [
       "5"
      ]
     },
     "execution_count": 36,
     "metadata": {},
     "output_type": "execute_result"
    }
   ],
   "source": [
    "class FancyCar():\n",
    "     wheels = 5\n",
    "            \n",
    "type(FancyCar)\n",
    "my_car = FancyCar()\n",
    "my_car.wheels"
   ]
  },
  {
   "cell_type": "markdown",
   "id": "b688dc2b-00e3-4906-b5f1-c4bdbaa1dda8",
   "metadata": {},
   "source": [
    "# *List and Set*"
   ]
  },
  {
   "cell_type": "code",
   "execution_count": 40,
   "id": "7ad72031-f153-4dd1-aead-c8916702c9ac",
   "metadata": {},
   "outputs": [
    {
     "name": "stdout",
     "output_type": "stream",
     "text": [
      "this is list [1, 1, 2, 3, 4, 5]\n",
      "this is a set {1, 2, 3, 4, 5}\n"
     ]
    }
   ],
   "source": [
    "My_List = [1,1,2,3,4,5]\n",
    "print(\"this is list\", My_List)\n",
    "set={1,2,3,4,5}\n",
    "print(\"this is a set\",set)"
   ]
  },
  {
   "cell_type": "markdown",
   "id": "fc0065d6-a14c-4cc0-b98a-abe5b9df773b",
   "metadata": {},
   "source": [
    "#### *there is a difference in set and List , List allowes duplication and sets allows not duplicates*\n",
    "#### *List is made using [] and set is made using {}*"
   ]
  },
  {
   "cell_type": "code",
   "execution_count": 41,
   "id": "4b11f8ac-638c-4231-9a63-8b9b16e7902b",
   "metadata": {},
   "outputs": [
    {
     "name": "stdout",
     "output_type": "stream",
     "text": [
      "[1, 2, 3, 4, 6, 7, 8, 9, 5, 4, 6, 3]\n",
      "print the list of range : [4, 6, 7, 8, 9]\n",
      "What is the length of list : 12\n",
      "what is the minimum from this list : 1\n",
      "Whats is the maximum from the list : 9\n"
     ]
    }
   ],
   "source": [
    "My_List=[1,2,3,4,6,7,8,9,5,4,6,3]\n",
    "print(My_List)\n",
    "print(\"print the list of range :\",My_List[3:8])\n",
    "print(\"What is the length of list :\",len(My_List))\n",
    "print(\"what is the minimum from this list :\",min(My_List))\n",
    "print(\"Whats is the maximum from the list :\",max(My_List))"
   ]
  },
  {
   "cell_type": "markdown",
   "id": "bc177c80-6b5a-4c46-9c18-141ca2a145d4",
   "metadata": {},
   "source": [
    "# **Functions**"
   ]
  },
  {
   "cell_type": "code",
   "execution_count": 61,
   "id": "9e0dbf72-485a-4bc2-bd2e-b99eaf0329c8",
   "metadata": {},
   "outputs": [
    {
     "name": "stdout",
     "output_type": "stream",
     "text": [
      "Hello Prabhat Chaubey\n",
      "first : 1\n",
      "Second : 2\n"
     ]
    }
   ],
   "source": [
    "# Declaration\n",
    "# def FUnctionName(Arguments)\n",
    "def printmyName():\n",
    "    print(\"Hello Prabhat Chaubey\")\n",
    "prabhat = printmyName()\n",
    "prabhat\n",
    "\n",
    "#passing any argument in function\n",
    "def FucntionWithArgument(first=6,Second=2):\n",
    "    print(f\"first : {first}\")\n",
    "    print(f\"Second : {Second}\")\n",
    "    \n",
    "    # we are using print(f\"first : {first}\") rather than print(\"first : {first}\") because if we dont put \"f\" \n",
    "    # then it would treat that as string an wont evaluete the value of first and second, while if we put the f, \n",
    "    # then it acts as format string\n",
    "    \n",
    "FucntionWithArgument(1,2) # here we are assigning the value/passing the argumnet FucntionWithArgument(first,Second)\n",
    "# FUnctionWIthArguments() # here the value is hard coded so there no ned to pass anything FucntionWithArgument(first=6,Second=2)\n",
    "\n",
    "\n"
   ]
  },
  {
   "cell_type": "markdown",
   "id": "9c940769-6371-494f-a1bd-a0e4caae58da",
   "metadata": {},
   "source": [
    "### List of Functions"
   ]
  },
  {
   "cell_type": "code",
   "execution_count": 64,
   "id": "627d4e23-cc83-49c0-b4cd-9d94814c6c47",
   "metadata": {},
   "outputs": [
    {
     "name": "stdout",
     "output_type": "stream",
     "text": [
      "6\n",
      "9\n"
     ]
    }
   ],
   "source": [
    "def Double(input):\n",
    "    return input*2\n",
    "def Triple(input):\n",
    "    return input*3\n",
    " #two functions are declared now its time to make a list of funcions\n",
    "Functions = [Double,Triple]         #we are not callung the function we are just storing it in a list\n",
    "for function in Functions:          # this would iterate over all element in list\n",
    "    print(function(3))              # this is just tkaking all functiona nd passing the value Double(3) and Triple(3) and then printing it"
   ]
  },
  {
   "cell_type": "markdown",
   "id": "404a44dd-cc88-4a06-a446-9f115808816e",
   "metadata": {},
   "source": [
    "### *Exercises*\n"
   ]
  },
  {
   "cell_type": "markdown",
   "id": "2bdc0532-8067-42f5-8ee7-af9e37ab8694",
   "metadata": {},
   "source": [
    "**1. Write a Python function that takes a name as an argument and\n",
    "prints that name.**"
   ]
  },
  {
   "cell_type": "code",
   "execution_count": 6,
   "id": "380a22de-29c5-4a3d-9eec-ac326aac4fe6",
   "metadata": {},
   "outputs": [
    {
     "name": "stdout",
     "output_type": "stream",
     "text": [
      "prabhat\n"
     ]
    }
   ],
   "source": [
    "def printname(name):\n",
    "    print(name)\n",
    "    \n",
    "printname(\"prabhat\")"
   ]
  },
  {
   "cell_type": "markdown",
   "id": "39e41651-ab02-45a0-ad02-7c8ed521999c",
   "metadata": {},
   "source": [
    "**2. Write a Python function that takes a string as an argument and\n",
    "prints whether it is upper- or lowercase**"
   ]
  },
  {
   "cell_type": "code",
   "execution_count": 10,
   "id": "5c726c0a-6373-430d-9a97-c5249b0a6d55",
   "metadata": {},
   "outputs": [
    {
     "name": "stdout",
     "output_type": "stream",
     "text": [
      "Uppercase\n",
      "Lowercase\n"
     ]
    }
   ],
   "source": [
    "def checkcase(word):\n",
    "    if(word.isupper()):      #isupper() and islower() is used to check if the word is in uppercase or lowercase\n",
    "        print(\"Uppercase\")\n",
    "    else:\n",
    "        print(\"Lowercase\")\n",
    "\n",
    "checkcase(\"PRABHAT\")\n",
    "checkcase(\"prabhat\")"
   ]
  },
  {
   "cell_type": "markdown",
   "id": "dd0c24ed-c79c-4f5c-9e8a-5165d9ef8da2",
   "metadata": {},
   "source": [
    "**3. Write a list comprehension that results in a list of every letter in\n",
    "the word smogtether capitalized.**"
   ]
  },
  {
   "cell_type": "code",
   "execution_count": 12,
   "id": "d59c3e48-ebcd-47fd-99e0-554baf52afe0",
   "metadata": {},
   "outputs": [
    {
     "name": "stdout",
     "output_type": "stream",
     "text": [
      "['P', 'R', 'A', 'B', 'H', 'A', 'T']\n"
     ]
    }
   ],
   "source": [
    "def toUpperCase(word):\n",
    "    capatalized_letters = []\n",
    "    for letter in word:\n",
    "        capatalized_letters.append(letter.upper())\n",
    "\n",
    "    print(capatalized_letters)\n",
    "\n",
    "toUpperCase(\"prabhat\")"
   ]
  },
  {
   "cell_type": "markdown",
   "id": "bade0f61-8dce-4cae-9121-ec9992aaf658",
   "metadata": {},
   "source": [
    "# **Reading And Writing Files**"
   ]
  },
  {
   "cell_type": "code",
   "execution_count": 1,
   "id": "965719f0-2c2a-4a79-a8a6-e2df933deb8d",
   "metadata": {},
   "outputs": [
    {
     "data": {
      "text/plain": [
       "2845"
      ]
     },
     "execution_count": 1,
     "metadata": {},
     "output_type": "execute_result"
    }
   ],
   "source": [
    "file_path = 'C:\\\\Users\\\\prabhatritesh_chaube\\\\Downloads\\\\fileInput.txt'\n",
    "open_file = open(file_path, 'r')\n",
    "text = open_file.read()\n",
    "len(text)"
   ]
  },
  {
   "cell_type": "markdown",
   "id": "b7e40525-45f5-4274-a136-8d8b5e2ab73c",
   "metadata": {},
   "source": [
    "#### *1.Opening a File*\n",
    "#### *2. Reading From File*\n",
    "#### *3. Write to a file*\n",
    "#### *4. Closing a file*\n",
    "#### *5. **With** Statement*\n",
    "#### *6. Error Handling with **try-Except***\n"
   ]
  },
  {
   "cell_type": "markdown",
   "id": "6daf9642-b13c-4fc3-86e9-6ad657ec4f17",
   "metadata": {},
   "source": [
    "#### **1. Opening a File**"
   ]
  },
  {
   "cell_type": "code",
   "execution_count": 2,
   "id": "601428a9-849e-4f71-b14f-40306257fd0a",
   "metadata": {},
   "outputs": [
    {
     "name": "stdout",
     "output_type": "stream",
     "text": [
      "This is how we open a file\n"
     ]
    }
   ],
   "source": [
    "file_path = \"C:\\\\Users\\\\prabhatritesh_chaube\\\\Downloads\\\\fileInput.txt\"\n",
    "file = open(file_path , 'r')\n",
    "print(\"This is how we open a file\")"
   ]
  },
  {
   "cell_type": "markdown",
   "id": "bebdf91f-76d1-4593-bdf2-a2623ec4476b",
   "metadata": {},
   "source": [
    "#### *The 'r' indicates that we have opened this file to read, like this we can use 'w' to show we hav openend this file to perform write operations*"
   ]
  },
  {
   "cell_type": "markdown",
   "id": "1c5dcf8d-9921-46fd-b289-216cc080e82c",
   "metadata": {},
   "source": [
    "#### **2. Reading From File**"
   ]
  },
  {
   "cell_type": "code",
   "execution_count": 8,
   "id": "a40dffdf-19b5-4649-a226-781c8f94e7e3",
   "metadata": {},
   "outputs": [
    {
     "name": "stdout",
     "output_type": "stream",
     "text": [
      "This is how we open a file\n"
     ]
    }
   ],
   "source": [
    "file_path = \"C:\\\\Users\\\\prabhatritesh_chaube\\\\Downloads\\\\fileInput.txt\"\n",
    "file = open(file_path , 'r')\n",
    "content  =  file.read()\n",
    "contentbyline = file.readline()\n",
    "contentbylines = file.readlines()\n",
    "# print(content)\n",
    "# print(contentbyline)\n",
    "# print(contentbylines)\n",
    "print(\"This is how we read from a file\")"
   ]
  },
  {
   "cell_type": "markdown",
   "id": "92d3edf9-cacc-4711-90b1-0a8e0a23a708",
   "metadata": {},
   "source": [
    "#### *There is a differece in **read()** and **.readlines()** , that is that **read()** always reads as complete string and would return the complete string while on other hand **.readlines()** would give us the array or list of stings.*"
   ]
  },
  {
   "cell_type": "markdown",
   "id": "20b01d24-3828-4326-ac0d-2f7a99410943",
   "metadata": {},
   "source": [
    "#### **3. Write to a file**"
   ]
  },
  {
   "cell_type": "code",
   "execution_count": 18,
   "id": "188d7764-3ef1-4b84-95f6-369e88ba4a19",
   "metadata": {},
   "outputs": [
    {
     "name": "stdout",
     "output_type": "stream",
     "text": [
      "This is the second addition we are putting\n",
      "This is the second addition we are puttingThis is the second append addition we are putting\n",
      "This is how we read from a file\n"
     ]
    }
   ],
   "source": [
    "file_path = \"C:\\\\Users\\\\prabhatritesh_chaube\\\\Downloads\\\\fileInput.txt\"\n",
    "\n",
    "with open ('file_path','r') as file:\n",
    "    content = file.read()\n",
    "    print(content)\n",
    "\n",
    "with open('file_path','w') as file:\n",
    "    # file = open(file_path , 'w')  #this is not changes from r -> w \n",
    "    file.write(\"This is the second addition we are putting\")\n",
    "with open('file_path','a') as file:\n",
    "    # file = open(file_path , 'w')  #this is not changes from r -> w \n",
    "    file.write(\"This is the second append addition we are putting\")\n",
    "\n",
    "with open ('file_path','r') as file:\n",
    "    content = file.read()\n",
    "    print(content)\n",
    "print(\"This is how we read from a file\")"
   ]
  },
  {
   "cell_type": "markdown",
   "id": "ba7075b0-8240-4ff9-ad3d-644d2785905f",
   "metadata": {},
   "source": [
    "#### *From this we can see that **.write** have its own purpose and now the same way we have **.writelines()** , here we also noticed that there is a difference in **w** and **a** , where **w** is for **write**(deletes the content on file and write a new one) and **a** is for **append**(appends the content in the file)*"
   ]
  },
  {
   "cell_type": "markdown",
   "id": "bd47cd1a-d8fd-4ada-b33a-968280be8d03",
   "metadata": {},
   "source": [
    "#### **4. Closing a file**"
   ]
  },
  {
   "cell_type": "code",
   "execution_count": 21,
   "id": "2d86dd1d-3f43-4ca0-84f4-ba64030ffbd5",
   "metadata": {},
   "outputs": [
    {
     "name": "stdout",
     "output_type": "stream",
     "text": [
      "35\n"
     ]
    }
   ],
   "source": [
    "file_path = 'C:\\\\Users\\\\prabhatritesh_chaube\\\\Downloads\\\\fileInput.txt'\n",
    "open_file = open(file_path, 'r')\n",
    "text = open_file.read()\n",
    "# len(text)\n",
    "print(len(text))\n",
    "open_file.close()"
   ]
  },
  {
   "cell_type": "markdown",
   "id": "d90fe3bb-7a29-4dea-a03b-eb7fefbdc3e0",
   "metadata": {},
   "source": [
    "#### *Its important to close the files once we are done oerforming operations on them*"
   ]
  },
  {
   "cell_type": "markdown",
   "id": "1d84cafa-4678-44ca-b67b-2bd6c8cb7f97",
   "metadata": {},
   "source": [
    "#### **5. **With** Statement**"
   ]
  },
  {
   "cell_type": "markdown",
   "id": "52b6a0e4-6ac7-48e1-958f-0678af01c2b8",
   "metadata": {},
   "source": [
    "#### *The **With** statment is more convinit way to work with files. It aotomatically handles **opening and closing of file** , even if there occurs any error*"
   ]
  },
  {
   "cell_type": "code",
   "execution_count": 23,
   "id": "27f77cdf-1284-4f89-b121-36dedd7a2bcc",
   "metadata": {},
   "outputs": [
    {
     "name": "stdout",
     "output_type": "stream",
     "text": [
      "This is the second addition we are puttingThis is the second append addition we are putting\n"
     ]
    }
   ],
   "source": [
    "file_path = \"C:\\\\Users\\\\prabhatritesh_chaube\\\\Downloads\\\\fileInput.txt\"\n",
    "with open('file_path','r') as file:\n",
    "    content = file.read()\n",
    "    print(content)"
   ]
  },
  {
   "cell_type": "markdown",
   "id": "276e7a90-aab1-4f3a-9a34-a9df7196316a",
   "metadata": {},
   "source": [
    "#### **6. Error Handling with *try-Except***"
   ]
  },
  {
   "cell_type": "markdown",
   "id": "3aea13eb-bdd8-4421-93b8-8f4f94c7de91",
   "metadata": {},
   "source": [
    "#### *When working with files , you should handle possible errors like **fileNotFoundError** or **permissionError** using **try-except** block*"
   ]
  },
  {
   "cell_type": "code",
   "execution_count": 30,
   "id": "6acaf234-58ff-4189-ac12-e92611f538a9",
   "metadata": {},
   "outputs": [
    {
     "name": "stdout",
     "output_type": "stream",
     "text": [
      "File not found\n"
     ]
    }
   ],
   "source": [
    "try:\n",
    "    path = \"invalidfile.txt\"\n",
    "    with open(path,'r') as file:\n",
    "        content = file.read()\n",
    "        print(content)\n",
    "except FileNotFoundError:\n",
    "        print(\"File not found\")\n",
    "except PermissionError:\n",
    "        print(\"We are facing permission error\")"
   ]
  },
  {
   "cell_type": "code",
   "execution_count": null,
   "id": "771061b9-a027-411d-9492-28d2c076ec67",
   "metadata": {},
   "outputs": [],
   "source": []
  }
 ],
 "metadata": {
  "kernelspec": {
   "display_name": "Python 3 (ipykernel)",
   "language": "python",
   "name": "python3"
  },
  "language_info": {
   "codemirror_mode": {
    "name": "ipython",
    "version": 3
   },
   "file_extension": ".py",
   "mimetype": "text/x-python",
   "name": "python",
   "nbconvert_exporter": "python",
   "pygments_lexer": "ipython3",
   "version": "3.13.0"
  }
 },
 "nbformat": 4,
 "nbformat_minor": 5
}
